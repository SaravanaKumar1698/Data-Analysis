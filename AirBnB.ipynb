{
 "cells": [
  {
   "cell_type": "markdown",
   "id": "7c7cf58c",
   "metadata": {},
   "source": [
    "# AirBnB EDA"
   ]
  },
  {
   "cell_type": "code",
   "execution_count": 1,
   "id": "249755ae",
   "metadata": {},
   "outputs": [
    {
     "data": {
      "text/html": [
       "<div>\n",
       "<style scoped>\n",
       "    .dataframe tbody tr th:only-of-type {\n",
       "        vertical-align: middle;\n",
       "    }\n",
       "\n",
       "    .dataframe tbody tr th {\n",
       "        vertical-align: top;\n",
       "    }\n",
       "\n",
       "    .dataframe thead th {\n",
       "        text-align: right;\n",
       "    }\n",
       "</style>\n",
       "<table border=\"1\" class=\"dataframe\">\n",
       "  <thead>\n",
       "    <tr style=\"text-align: right;\">\n",
       "      <th></th>\n",
       "      <th>id</th>\n",
       "      <th>NAME</th>\n",
       "      <th>host id</th>\n",
       "      <th>host_identity_verified</th>\n",
       "      <th>host name</th>\n",
       "      <th>neighbourhood group</th>\n",
       "      <th>neighbourhood</th>\n",
       "      <th>lat</th>\n",
       "      <th>long</th>\n",
       "      <th>country</th>\n",
       "      <th>country code</th>\n",
       "      <th>instant_bookable</th>\n",
       "      <th>cancellation_policy</th>\n",
       "      <th>room type</th>\n",
       "      <th>Construction year</th>\n",
       "      <th>price</th>\n",
       "      <th>service fee</th>\n",
       "      <th>minimum nights</th>\n",
       "      <th>number of reviews</th>\n",
       "      <th>last review</th>\n",
       "      <th>reviews per month</th>\n",
       "      <th>review rate number</th>\n",
       "      <th>calculated host listings count</th>\n",
       "      <th>availability 365</th>\n",
       "      <th>house_rules</th>\n",
       "      <th>license</th>\n",
       "    </tr>\n",
       "  </thead>\n",
       "  <tbody>\n",
       "    <tr>\n",
       "      <th>0</th>\n",
       "      <td>1001254</td>\n",
       "      <td>Clean &amp; quiet apt home by the park</td>\n",
       "      <td>80014485718</td>\n",
       "      <td>unconfirmed</td>\n",
       "      <td>Madaline</td>\n",
       "      <td>Brooklyn</td>\n",
       "      <td>Kensington</td>\n",
       "      <td>40.64749</td>\n",
       "      <td>-73.97237</td>\n",
       "      <td>United States</td>\n",
       "      <td>US</td>\n",
       "      <td>False</td>\n",
       "      <td>strict</td>\n",
       "      <td>Private room</td>\n",
       "      <td>2020.0</td>\n",
       "      <td>$966</td>\n",
       "      <td>$193</td>\n",
       "      <td>10.0</td>\n",
       "      <td>9.0</td>\n",
       "      <td>10/19/2021</td>\n",
       "      <td>0.21</td>\n",
       "      <td>4.0</td>\n",
       "      <td>6.0</td>\n",
       "      <td>286.0</td>\n",
       "      <td>Clean up and treat the home the way you'd like...</td>\n",
       "      <td>NaN</td>\n",
       "    </tr>\n",
       "    <tr>\n",
       "      <th>1</th>\n",
       "      <td>1002102</td>\n",
       "      <td>Skylit Midtown Castle</td>\n",
       "      <td>52335172823</td>\n",
       "      <td>verified</td>\n",
       "      <td>Jenna</td>\n",
       "      <td>Manhattan</td>\n",
       "      <td>Midtown</td>\n",
       "      <td>40.75362</td>\n",
       "      <td>-73.98377</td>\n",
       "      <td>United States</td>\n",
       "      <td>US</td>\n",
       "      <td>False</td>\n",
       "      <td>moderate</td>\n",
       "      <td>Entire home/apt</td>\n",
       "      <td>2007.0</td>\n",
       "      <td>$142</td>\n",
       "      <td>$28</td>\n",
       "      <td>30.0</td>\n",
       "      <td>45.0</td>\n",
       "      <td>5/21/2022</td>\n",
       "      <td>0.38</td>\n",
       "      <td>4.0</td>\n",
       "      <td>2.0</td>\n",
       "      <td>228.0</td>\n",
       "      <td>Pet friendly but please confirm with me if the...</td>\n",
       "      <td>NaN</td>\n",
       "    </tr>\n",
       "  </tbody>\n",
       "</table>\n",
       "</div>"
      ],
      "text/plain": [
       "        id                                NAME      host id  \\\n",
       "0  1001254  Clean & quiet apt home by the park  80014485718   \n",
       "1  1002102               Skylit Midtown Castle  52335172823   \n",
       "\n",
       "  host_identity_verified host name neighbourhood group neighbourhood  \\\n",
       "0            unconfirmed  Madaline            Brooklyn    Kensington   \n",
       "1               verified     Jenna           Manhattan       Midtown   \n",
       "\n",
       "        lat      long        country country code instant_bookable  \\\n",
       "0  40.64749 -73.97237  United States           US            False   \n",
       "1  40.75362 -73.98377  United States           US            False   \n",
       "\n",
       "  cancellation_policy        room type  Construction year  price service fee  \\\n",
       "0              strict     Private room             2020.0  $966        $193    \n",
       "1            moderate  Entire home/apt             2007.0  $142         $28    \n",
       "\n",
       "   minimum nights  number of reviews last review  reviews per month  \\\n",
       "0            10.0                9.0  10/19/2021               0.21   \n",
       "1            30.0               45.0   5/21/2022               0.38   \n",
       "\n",
       "   review rate number  calculated host listings count  availability 365  \\\n",
       "0                 4.0                             6.0             286.0   \n",
       "1                 4.0                             2.0             228.0   \n",
       "\n",
       "                                         house_rules license  \n",
       "0  Clean up and treat the home the way you'd like...     NaN  \n",
       "1  Pet friendly but please confirm with me if the...     NaN  "
      ]
     },
     "execution_count": 1,
     "metadata": {},
     "output_type": "execute_result"
    }
   ],
   "source": [
    "import pandas as pd\n",
    "import matplotlib.pyplot as plt\n",
    "import seaborn as sns\n",
    "import warnings\n",
    "warnings.filterwarnings('ignore')\n",
    "pd.options.display.max_columns = None\n",
    "df = pd.read_csv(\"D:\\Analytics Project\\Airbnb\\Airbnb_Open_Data.csv\")\n",
    "df.head(2)"
   ]
  },
  {
   "cell_type": "code",
   "execution_count": 2,
   "id": "03baaf72",
   "metadata": {},
   "outputs": [
    {
     "data": {
      "text/plain": [
       "id                                     0\n",
       "NAME                                 250\n",
       "host id                                0\n",
       "host_identity_verified               289\n",
       "host name                            406\n",
       "neighbourhood group                   29\n",
       "neighbourhood                         16\n",
       "lat                                    8\n",
       "long                                   8\n",
       "country                              532\n",
       "country code                         131\n",
       "instant_bookable                     105\n",
       "cancellation_policy                   76\n",
       "room type                              0\n",
       "Construction year                    214\n",
       "price                                247\n",
       "service fee                          273\n",
       "minimum nights                       409\n",
       "number of reviews                    183\n",
       "last review                        15893\n",
       "reviews per month                  15879\n",
       "review rate number                   326\n",
       "calculated host listings count       319\n",
       "availability 365                     448\n",
       "house_rules                        52131\n",
       "license                           102597\n",
       "dtype: int64"
      ]
     },
     "execution_count": 2,
     "metadata": {},
     "output_type": "execute_result"
    }
   ],
   "source": [
    "df.isna().sum()"
   ]
  },
  {
   "cell_type": "code",
   "execution_count": 3,
   "id": "60848349",
   "metadata": {},
   "outputs": [],
   "source": [
    "df['country'] = df['country'].fillna('United States')\n",
    "#Since the data analysis is about United States."
   ]
  },
  {
   "cell_type": "code",
   "execution_count": 4,
   "id": "bf7c83c1",
   "metadata": {},
   "outputs": [],
   "source": [
    "df['country code'] = df['country code'].fillna('US')\n",
    "#Similar to country column we can fill United States code as US"
   ]
  },
  {
   "cell_type": "code",
   "execution_count": 5,
   "id": "115f191c",
   "metadata": {},
   "outputs": [],
   "source": [
    "df['price'] = df['price'].str.replace('$1,060 ','$1,060')\n",
    "df['price'] = df['price'].str.replace('$','')\n",
    "df['price'] = df['price'].str.replace(',','')\n",
    "df['price'] = pd.to_numeric(df['price'])\n",
    "#converting string to int or float data type since its in numeric form."
   ]
  },
  {
   "cell_type": "code",
   "execution_count": 6,
   "id": "0afef708",
   "metadata": {},
   "outputs": [],
   "source": [
    "df['service fee'] = df['service fee'].str.replace('$','')\n",
    "#converting string to int or float data type since its in numeric form."
   ]
  },
  {
   "cell_type": "code",
   "execution_count": 7,
   "id": "72cea238",
   "metadata": {},
   "outputs": [
    {
     "data": {
      "text/plain": [
       "price          247\n",
       "service fee    273\n",
       "dtype: int64"
      ]
     },
     "execution_count": 7,
     "metadata": {},
     "output_type": "execute_result"
    }
   ],
   "source": [
    "df[['price','service fee']].isna().sum()"
   ]
  },
  {
   "cell_type": "code",
   "execution_count": 8,
   "id": "0aac0d89",
   "metadata": {},
   "outputs": [],
   "source": [
    "df['neighbourhood group']=df['neighbourhood group'].replace('brookln','Brooklyn')\n",
    "df['neighbourhood group']=df['neighbourhood group'].replace('manhatan','Manhattan')"
   ]
  },
  {
   "cell_type": "code",
   "execution_count": 9,
   "id": "59e00477",
   "metadata": {},
   "outputs": [
    {
     "data": {
      "text/plain": [
       "neighbourhood group\n",
       "Bronx            627.766359\n",
       "Brooklyn         626.561078\n",
       "Manhattan        622.436508\n",
       "Queens           630.207647\n",
       "Staten Island    624.490546\n",
       "Name: price, dtype: float64"
      ]
     },
     "execution_count": 9,
     "metadata": {},
     "output_type": "execute_result"
    }
   ],
   "source": [
    "df.groupby('neighbourhood group')['price'].mean()"
   ]
  },
  {
   "cell_type": "code",
   "execution_count": 10,
   "id": "dd4ac41a",
   "metadata": {},
   "outputs": [
    {
     "name": "stdout",
     "output_type": "stream",
     "text": [
      "Int64Index([13601, 24327, 36920, 36921, 51214, 65648, 65767], dtype='int64')\n"
     ]
    }
   ],
   "source": [
    "ls = ['Bronx','Brooklyn','Manhattan','Queens','Staten Island']\n",
    "def calc_price(valu):\n",
    "    ans = df[(df['neighbourhood group']==valu)&(df['price'].isna())]\n",
    "    print(ans.index)\n",
    "calc_price('Bronx')"
   ]
  },
  {
   "cell_type": "code",
   "execution_count": 11,
   "id": "3c6899d8",
   "metadata": {},
   "outputs": [],
   "source": [
    "ls = [13601, 24327, 36920, 36921, 51214, 65648, 65767]\n",
    "for i in ls:\n",
    "    df['price'] = df['price'].fillna({i:627.766359})"
   ]
  },
  {
   "cell_type": "code",
   "execution_count": 12,
   "id": "e047a065",
   "metadata": {},
   "outputs": [],
   "source": [
    "df['price'] =df['price'].fillna(622.436508)"
   ]
  },
  {
   "cell_type": "code",
   "execution_count": 13,
   "id": "7374c434",
   "metadata": {},
   "outputs": [
    {
     "data": {
      "text/plain": [
       "0"
      ]
     },
     "execution_count": 13,
     "metadata": {},
     "output_type": "execute_result"
    }
   ],
   "source": [
    "df['price'].isna().sum()"
   ]
  },
  {
   "cell_type": "code",
   "execution_count": 14,
   "id": "022190e8",
   "metadata": {},
   "outputs": [],
   "source": [
    "df['service fee'] = df['service fee'].fillna(0)\n",
    "df['service fee'] = df['service fee'].astype(int)"
   ]
  },
  {
   "cell_type": "code",
   "execution_count": 15,
   "id": "b1161b3b",
   "metadata": {},
   "outputs": [
    {
     "data": {
      "text/plain": [
       "neighbourhood group\n",
       "Bronx            125.172935\n",
       "Brooklyn         124.896590\n",
       "Manhattan        124.161647\n",
       "Queens           125.717193\n",
       "Staten Island    124.482723\n",
       "Name: service fee, dtype: float64"
      ]
     },
     "execution_count": 15,
     "metadata": {},
     "output_type": "execute_result"
    }
   ],
   "source": [
    "df.groupby('neighbourhood group')['service fee'].mean()"
   ]
  },
  {
   "cell_type": "code",
   "execution_count": 16,
   "id": "8c95e3e0",
   "metadata": {},
   "outputs": [
    {
     "name": "stdout",
     "output_type": "stream",
     "text": [
      "[Int64Index([    15,     18,   2169,   2170,   2171,   2173,   2174,   6614,\n",
      "              6618,   6619,\n",
      "            ...\n",
      "             97708,  97762,  97765,  97766, 102039, 102048, 102049, 102052,\n",
      "            102056, 102057],\n",
      "           dtype='int64', length=111)]\n"
     ]
    }
   ],
   "source": [
    "l = ['Bronx','Brooklyn','Manhattan','Queens','Staten Island']\n",
    "ls1 = []\n",
    "def calc_price(valu):\n",
    "    ans = df[(df['neighbourhood group']==valu)&(df['service fee']==0)]\n",
    "    ls1.append(ans.index)\n",
    "    print(ls1)\n",
    "calc_price('Manhattan')"
   ]
  },
  {
   "cell_type": "code",
   "execution_count": 17,
   "id": "f4fd7eed",
   "metadata": {},
   "outputs": [],
   "source": [
    "#ls = [ 2177,   6616,   6617,   6653,  13454,  30896,  41177,  51223]\n",
    "#for i in ls:\n",
    "    #df['service fee'] = df['service fee'].fillna({i:124.896590})"
   ]
  },
  {
   "cell_type": "code",
   "execution_count": 18,
   "id": "f2328348",
   "metadata": {},
   "outputs": [],
   "source": [
    "df['service fee'] = df['service fee'].fillna(124.529118)"
   ]
  },
  {
   "cell_type": "markdown",
   "id": "baec5d8d",
   "metadata": {},
   "source": [
    "id,name,host id,host name,lat,long,house_rules,license"
   ]
  },
  {
   "cell_type": "code",
   "execution_count": 19,
   "id": "81e6b11a",
   "metadata": {},
   "outputs": [],
   "source": [
    "per = (df.isna().sum()/df.shape[0])*100\n",
    "#per\n",
    "#percentage of null values in each and every column."
   ]
  },
  {
   "cell_type": "code",
   "execution_count": 20,
   "id": "dda833c8",
   "metadata": {},
   "outputs": [],
   "source": [
    "dd = df[['neighbourhood group','room type','Construction year','price','service fee','review rate number']]"
   ]
  },
  {
   "cell_type": "code",
   "execution_count": 21,
   "id": "5694de92",
   "metadata": {},
   "outputs": [],
   "source": [
    "#Dont consider about duplicates since this is not a duplicated one its a repeated or possibility values."
   ]
  },
  {
   "cell_type": "code",
   "execution_count": 22,
   "id": "52c102da",
   "metadata": {},
   "outputs": [
    {
     "data": {
      "text/plain": [
       "neighbourhood group    29\n",
       "neighbourhood          16\n",
       "dtype: int64"
      ]
     },
     "execution_count": 22,
     "metadata": {},
     "output_type": "execute_result"
    }
   ],
   "source": [
    "df[['neighbourhood group','neighbourhood']].isna().sum()"
   ]
  },
  {
   "cell_type": "code",
   "execution_count": 23,
   "id": "884f3344",
   "metadata": {},
   "outputs": [
    {
     "data": {
      "text/html": [
       "<div>\n",
       "<style scoped>\n",
       "    .dataframe tbody tr th:only-of-type {\n",
       "        vertical-align: middle;\n",
       "    }\n",
       "\n",
       "    .dataframe tbody tr th {\n",
       "        vertical-align: top;\n",
       "    }\n",
       "\n",
       "    .dataframe thead th {\n",
       "        text-align: right;\n",
       "    }\n",
       "</style>\n",
       "<table border=\"1\" class=\"dataframe\">\n",
       "  <thead>\n",
       "    <tr style=\"text-align: right;\">\n",
       "      <th></th>\n",
       "      <th>lat</th>\n",
       "      <th>long</th>\n",
       "    </tr>\n",
       "    <tr>\n",
       "      <th>neighbourhood group</th>\n",
       "      <th></th>\n",
       "      <th></th>\n",
       "    </tr>\n",
       "  </thead>\n",
       "  <tbody>\n",
       "    <tr>\n",
       "      <th>Bronx</th>\n",
       "      <td>40.849289</td>\n",
       "      <td>-73.883191</td>\n",
       "    </tr>\n",
       "    <tr>\n",
       "      <th>Brooklyn</th>\n",
       "      <td>40.683825</td>\n",
       "      <td>-73.950496</td>\n",
       "    </tr>\n",
       "    <tr>\n",
       "      <th>Manhattan</th>\n",
       "      <td>40.765288</td>\n",
       "      <td>-73.974404</td>\n",
       "    </tr>\n",
       "    <tr>\n",
       "      <th>Queens</th>\n",
       "      <td>40.728520</td>\n",
       "      <td>-73.867637</td>\n",
       "    </tr>\n",
       "    <tr>\n",
       "      <th>Staten Island</th>\n",
       "      <td>40.611668</td>\n",
       "      <td>-74.105042</td>\n",
       "    </tr>\n",
       "  </tbody>\n",
       "</table>\n",
       "</div>"
      ],
      "text/plain": [
       "                           lat       long\n",
       "neighbourhood group                      \n",
       "Bronx                40.849289 -73.883191\n",
       "Brooklyn             40.683825 -73.950496\n",
       "Manhattan            40.765288 -73.974404\n",
       "Queens               40.728520 -73.867637\n",
       "Staten Island        40.611668 -74.105042"
      ]
     },
     "execution_count": 23,
     "metadata": {},
     "output_type": "execute_result"
    }
   ],
   "source": [
    "df.groupby('neighbourhood group')[['lat','long']].mean()"
   ]
  },
  {
   "cell_type": "code",
   "execution_count": 24,
   "id": "e411357e",
   "metadata": {},
   "outputs": [
    {
     "name": "stdout",
     "output_type": "stream",
     "text": [
      "0                  Kensington\n",
      "1                     Midtown\n",
      "2                      Harlem\n",
      "3                Clinton Hill\n",
      "4                 East Harlem\n",
      "                 ...         \n",
      "102594           Williamsburg\n",
      "102595    Morningside Heights\n",
      "102596             Park Slope\n",
      "102597       Long Island City\n",
      "102598        Upper West Side\n",
      "Name: neighbourhood, Length: 102599, dtype: object\n"
     ]
    }
   ],
   "source": [
    "c = df['neighbourhood'][df['neighbourhood group'].isna()].value_counts()\n",
    "c\n",
    "d=df['neighbourhood']\n",
    "e =df['neighbourhood group']\n",
    "print(d)"
   ]
  },
  {
   "cell_type": "code",
   "execution_count": 25,
   "id": "9abe2749",
   "metadata": {},
   "outputs": [
    {
     "data": {
      "text/plain": [
       "lat       long       neighbourhood     \n",
       "40.67870  -73.97262  Prospect Heights      1\n",
       "40.72413  -73.76133  Queens Village        1\n",
       "40.83139  -73.94095  Washington Heights    1\n",
       "40.82976  -73.94867  Harlem                1\n",
       "40.82399  -73.95328  Harlem                1\n",
       "40.80942  -73.93936  East Harlem           1\n",
       "40.80518  -73.95359  Harlem                1\n",
       "40.79471  -73.96918  Upper West Side       1\n",
       "40.79320  -73.94007  East Harlem           1\n",
       "40.76865  -73.95058  Upper East Side       1\n",
       "40.75038  -73.90334  Woodside              1\n",
       "40.74859  -73.99671  Chelsea               1\n",
       "40.72828  -73.98801  East Village          1\n",
       "40.72636  -73.98917  East Village          1\n",
       "40.72354  -73.98295  East Village          1\n",
       "40.68233  -73.97261  Prospect Heights      1\n",
       "40.71659  -73.98945  Chinatown             1\n",
       "40.71398  -73.95763  Williamsburg          1\n",
       "40.71363  -73.96019  Williamsburg          1\n",
       "40.71156  -73.96218  Williamsburg          1\n",
       "40.71088  -73.95055  Williamsburg          1\n",
       "40.71031  -73.95830  Williamsburg          1\n",
       "40.70032  -73.93830  Bushwick              1\n",
       "40.69085  -73.90937  Bushwick              1\n",
       "40.68843  -73.96408  Clinton Hill          1\n",
       "40.68800  -73.91710  Bushwick              1\n",
       "40.68669  -73.91989  Bedford-Stuyvesant    1\n",
       "40.68346  -73.96374  Clinton Hill          1\n",
       "40.88057  -73.83572  Eastchester           1\n",
       "dtype: int64"
      ]
     },
     "execution_count": 25,
     "metadata": {},
     "output_type": "execute_result"
    }
   ],
   "source": [
    "df[['lat','long','neighbourhood']][df['neighbourhood group'].isna()].value_counts()"
   ]
  },
  {
   "cell_type": "code",
   "execution_count": 26,
   "id": "24d5805c",
   "metadata": {},
   "outputs": [
    {
     "data": {
      "text/plain": [
       "lat       long       neighbourhood group\n",
       "40.65992  -73.99042  Brooklyn               1\n",
       "40.68012  -73.97847  Brooklyn               1\n",
       "40.68016  -73.94878  Brooklyn               1\n",
       "40.71300  -73.99752  Manhattan              1\n",
       "40.71580  -73.95803  Brooklyn               1\n",
       "40.71693  -73.98948  Manhattan              1\n",
       "40.72709  -73.98274  Manhattan              1\n",
       "40.72723  -73.95728  Brooklyn               1\n",
       "40.73089  -73.98195  Manhattan              1\n",
       "40.73641  -73.95330  Brooklyn               1\n",
       "40.73693  -73.95316  Brooklyn               1\n",
       "40.73783  -73.95259  Brooklyn               1\n",
       "40.75348  -73.97065  Manhattan              1\n",
       "40.76217  -73.98411  Manhattan              1\n",
       "40.78304  -73.97447  Manhattan              1\n",
       "40.79816  -73.96190  Manhattan              1\n",
       "dtype: int64"
      ]
     },
     "execution_count": 26,
     "metadata": {},
     "output_type": "execute_result"
    }
   ],
   "source": [
    "df[['lat','long','neighbourhood group']][df['neighbourhood'].isna()].value_counts()"
   ]
  },
  {
   "cell_type": "code",
   "execution_count": 27,
   "id": "09ec3bfa",
   "metadata": {},
   "outputs": [
    {
     "data": {
      "text/plain": [
       "neighbourhood       lat       long     \n",
       "Greenpoint          40.73756  -73.95350    15\n",
       "Bedford-Stuyvesant  40.68210  -73.91245     6\n",
       "Greenpoint          40.73778  -73.95366     6\n",
       "Boerum Hill         40.68826  -73.98558     6\n",
       "Williamsburg        40.71232  -73.94220     6\n",
       "                                           ..\n",
       "Bedford-Stuyvesant  40.69424  -73.94420     1\n",
       "                    40.69423  -73.94627     1\n",
       "Fort Greene         40.69519  -73.97202     1\n",
       "Bedford-Stuyvesant  40.69422  -73.93232     1\n",
       "Bushwick            40.69997  -73.92054     1\n",
       "Length: 27120, dtype: int64"
      ]
     },
     "execution_count": 27,
     "metadata": {},
     "output_type": "execute_result"
    }
   ],
   "source": [
    "df[['neighbourhood','lat','long']][(df['neighbourhood group']=='Brooklyn')].value_counts()"
   ]
  },
  {
   "cell_type": "code",
   "execution_count": 28,
   "id": "7468a114",
   "metadata": {},
   "outputs": [
    {
     "data": {
      "text/plain": [
       "5"
      ]
     },
     "execution_count": 28,
     "metadata": {},
     "output_type": "execute_result"
    }
   ],
   "source": [
    "df['neighbourhood group'].value_counts().count()"
   ]
  },
  {
   "cell_type": "code",
   "execution_count": null,
   "id": "2ff43bda",
   "metadata": {},
   "outputs": [],
   "source": [
    "Brooklyn  Williamsburg,\n",
    "Manhattan  East Village,\n",
    "Brooklyn      Bushwick,\n",
    "Manhattan        Harlem\n",
    "Brooklyn  Clinton Hill,\n",
    "Brooklyn  Prospect Heights,\n",
    "Manhattan   East Harlem\n",
    "Manhattan  Washington Heights\n",
    ",Manhattan  Upper East Side,\n",
    "Queens      Woodside\n",
    "Manhattan       Chelsea,\n",
    "Bronx   Eastchester,\n",
    "Manhattan     Chinatown,\n",
    "Queens  Queens Village\n",
    "Brooklyn  Bedford-Stuyvesant\n",
    "Manhattan  Upper West Side\n",
    "ls = ['Brooklyn','Manhattan','Queens','Bronx']\n",
    "#dict = {'Brooklyn':['Williamsburg','Bushwick','Clinton Hill','Prospect Heights','Bedford-Stuyvesant'],\n",
    "       #'Manhattan':['East Village','Harlem','East Harlem','Washington Heights','Upper East Side', 'Chelsea','Chinatown'],\n",
    "       #'Queens':['Woodside','Queens Village'],\n",
    "       #'Bronx':['Eastchester']}\n"
   ]
  },
  {
   "cell_type": "code",
   "execution_count": null,
   "id": "0bd2947a",
   "metadata": {},
   "outputs": [],
   "source": [
    "lss = []\n",
    "def calc(val):\n",
    "    for ii in val:\n",
    "        cc = df[(df['neighbourhood']==ii)&(df['neighbourhood group'].isna())]\n",
    "        lss.append(cc.index)\n",
    "    print(lss)\n",
    "calc(val=['East Village','Harlem','East Harlem','Washington Heights','Upper East Side', 'Chelsea','Chinatown'])"
   ]
  },
  {
   "cell_type": "code",
   "execution_count": null,
   "id": "d420918e",
   "metadata": {},
   "outputs": [],
   "source": [
    "ls = [90, 161, 287, 319, 415,91, 249, 40383,75, 168,92, 206,448]\n",
    "for i in ls: \n",
    "    df['neighbourhood group'] = df['neighbourhood group'].fillna({i:'Brooklyn'})"
   ]
  },
  {
   "cell_type": "code",
   "execution_count": null,
   "id": "6a4e4f82",
   "metadata": {},
   "outputs": [],
   "source": [
    "df['neighbourhood group'] = df['neighbourhood group'].fillna('Manhattan')"
   ]
  },
  {
   "cell_type": "code",
   "execution_count": null,
   "id": "b369e000",
   "metadata": {},
   "outputs": [],
   "source": [
    "df['neighbourhood group'].isna().sum()"
   ]
  },
  {
   "cell_type": "code",
   "execution_count": null,
   "id": "4d4d956f",
   "metadata": {},
   "outputs": [],
   "source": [
    "import seaborn as sns\n",
    "sns.countplot(x=df['neighbourhood group'])"
   ]
  },
  {
   "cell_type": "code",
   "execution_count": null,
   "id": "6c0c380f",
   "metadata": {
    "scrolled": true
   },
   "outputs": [],
   "source": [
    "sns.countplot(x=df['neighbourhood group'],hue=df['room type'])"
   ]
  },
  {
   "cell_type": "code",
   "execution_count": null,
   "id": "8878e509",
   "metadata": {},
   "outputs": [],
   "source": [
    "sns.boxplot(df['price'])"
   ]
  },
  {
   "cell_type": "code",
   "execution_count": null,
   "id": "f09fe771",
   "metadata": {},
   "outputs": [],
   "source": [
    "sns.boxplot(df['service fee'])"
   ]
  },
  {
   "cell_type": "code",
   "execution_count": null,
   "id": "362f7c1f",
   "metadata": {},
   "outputs": [],
   "source": [
    "plt.figure(figsize=(15,10))\n",
    "plt.title(\"Relationship between price and service fee\", size=25, color=\"green\")\n",
    "sns.scatterplot(x=df['price'], y=df['service fee'], hue=df['room type'],s=30);"
   ]
  },
  {
   "cell_type": "code",
   "execution_count": null,
   "id": "fe17974e",
   "metadata": {},
   "outputs": [],
   "source": [
    "df[df['service fee']==0].isna().sum()"
   ]
  },
  {
   "cell_type": "code",
   "execution_count": null,
   "id": "0daf839a",
   "metadata": {},
   "outputs": [],
   "source": [
    "airbnb = df.to_csv('Airbnb.csv')"
   ]
  },
  {
   "cell_type": "code",
   "execution_count": null,
   "id": "6020664f",
   "metadata": {},
   "outputs": [],
   "source": [
    "df['room type'].value_counts()"
   ]
  },
  {
   "cell_type": "code",
   "execution_count": null,
   "id": "126ad8d3",
   "metadata": {},
   "outputs": [],
   "source": [
    "df['cancellation_policy'].dropna()"
   ]
  },
  {
   "cell_type": "code",
   "execution_count": null,
   "id": "b5822c83",
   "metadata": {},
   "outputs": [],
   "source": [
    "sns.boxplot(df['minimum nights'],linewidth=25)"
   ]
  },
  {
   "cell_type": "code",
   "execution_count": 30,
   "id": "26321a06",
   "metadata": {},
   "outputs": [
    {
     "data": {
      "image/png": "[encoded data removed]",
      "text/plain": [
       "<Figure size 288x288 with 1 Axes>"
      ]
     },
     "metadata": {},
     "output_type": "display_data"
    }
   ],
   "source": [
    "value_counts = df['host_identity_verified'].value_counts()\n",
    "\n",
    "# Create a pie chart\n",
    "plt.figure(figsize=(4,4))\n",
    "plt.pie(value_counts, labels=value_counts.index, autopct='%1.1f%%', startangle=140, colors=['skyblue', 'lightcoral'])\n",
    "plt.title('Host Identity Verification')\n",
    "plt.axis('equal')  # Equal aspect ratio ensures the pie chart is circular.\n",
    "plt.show()"
   ]
  },
  {
   "cell_type": "code",
   "execution_count": 31,
   "id": "33b117cf",
   "metadata": {},
   "outputs": [
    {
     "data": {
      "image/png": "[encoded data removed]",
      "text/plain": [
       "<Figure size 720x432 with 1 Axes>"
      ]
     },
     "metadata": {
      "needs_background": "light"
     },
     "output_type": "display_data"
    }
   ],
   "source": [
    "construction_year_count = df.groupby('Construction year')['price'].count()\n",
    "\n",
    "# Create a line graph\n",
    "plt.figure(figsize=(10, 6))\n",
    "construction_year_count.plot(kind='line', marker='o')\n",
    "plt.title('Accommodation Count by Construction Year')\n",
    "plt.xlabel('Construction Year')\n",
    "plt.ylabel('Count')\n",
    "plt.xticks(rotation=45)\n",
    "plt.grid(True)\n",
    "plt.show()"
   ]
  },
  {
   "cell_type": "code",
   "execution_count": 32,
   "id": "1061f860",
   "metadata": {},
   "outputs": [
    {
     "data": {
      "image/png": "[encoded data removed]",
      "text/plain": [
       "<Figure size 360x360 with 1 Axes>"
      ]
     },
     "metadata": {
      "needs_background": "light"
     },
     "output_type": "display_data"
    }
   ],
   "source": [
    "grouped_by_room = df.groupby('room type')['minimum nights'].mean()\n",
    "\n",
    "# Create a bar graph\n",
    "plt.figure(figsize=(5, 5))\n",
    "grouped_by_room.plot(kind='bar', color='lightcoral')\n",
    "plt.title('Average Minimum Nights by Room Type')\n",
    "plt.xlabel('Room Type')\n",
    "plt.ylabel('Average Minimum Nights')\n",
    "plt.xticks(rotation=0)\n",
    "plt.show()"
   ]
  },
  {
   "cell_type": "code",
   "execution_count": 33,
   "id": "c9fa717f",
   "metadata": {},
   "outputs": [
    {
     "data": {
      "image/png": "[encoded data removed]",
      "text/plain": [
       "<Figure size 720x432 with 1 Axes>"
      ]
     },
     "metadata": {
      "needs_background": "light"
     },
     "output_type": "display_data"
    }
   ],
   "source": [
    "cancel_counts = df.groupby(['neighbourhood group', 'cancellation_policy'])['cancellation_policy'].count().unstack()\n",
    "\n",
    "# Plotting side-by-side bar chart\n",
    "ax = cancel_counts.plot(kind='bar', figsize=(10, 6))\n",
    "plt.title('Count of Cancellation Policies by Neighbourhood Group')\n",
    "plt.xlabel('Neighbourhood Group')\n",
    "plt.ylabel('Count')\n",
    "plt.xticks(rotation=0)\n",
    "plt.legend(title='Cancellation Policy')\n",
    "\n",
    "# Add labels to the bars\n",
    "for container in ax.containers:\n",
    "    ax.bar_label(container, label_type='edge', fontsize=10, padding=3, rotation=90)\n",
    "\n",
    "plt.show()"
   ]
  }
 ],
 "metadata": {
  "kernelspec": {
   "display_name": "Python 3 (ipykernel)",
   "language": "python",
   "name": "python3"
  },
  "language_info": {
   "codemirror_mode": {
    "name": "ipython",
    "version": 3
   },
   "file_extension": ".py",
   "mimetype": "text/x-python",
   "name": "python",
   "nbconvert_exporter": "python",
   "pygments_lexer": "ipython3",
   "version": "3.9.12"
  }
 },
 "nbformat": 4,
 "nbformat_minor": 5
}
