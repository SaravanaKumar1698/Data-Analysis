{
 "cells": [
  {
   "cell_type": "markdown",
   "id": "3e43e021",
   "metadata": {},
   "source": [
    "# NFL injury Analysis"
   ]
  },
  {
   "cell_type": "code",
   "execution_count": 3,
   "id": "782b93bf",
   "metadata": {},
   "outputs": [],
   "source": [
    "import pandas as pd\n",
    "df = pd.read_csv(\"D:/NFL/PlayList.csv\")"
   ]
  },
  {
   "cell_type": "code",
   "execution_count": 29,
   "id": "df85f869",
   "metadata": {
    "scrolled": true
   },
   "outputs": [
    {
     "data": {
      "text/plain": [
       "PlayerKey             0\n",
       "GameID                0\n",
       "PlayKey               0\n",
       "RosterPosition        0\n",
       "PlayerDay             0\n",
       "PlayerGame            0\n",
       "StadiumType       16910\n",
       "FieldType             0\n",
       "Temperature           0\n",
       "Weather           18691\n",
       "PlayType            367\n",
       "PlayerGamePlay        0\n",
       "Position              0\n",
       "PositionGroup         0\n",
       "dtype: int64"
      ]
     },
     "execution_count": 29,
     "metadata": {},
     "output_type": "execute_result"
    }
   ],
   "source": [
    "import pandas as pd\n",
    "df = pd.read_csv(\"D:/NFL/PlayList.csv\")\n",
    "df.isna().sum()"
   ]
  },
  {
   "cell_type": "code",
   "execution_count": 3,
   "id": "798be828",
   "metadata": {},
   "outputs": [
    {
     "data": {
      "text/plain": [
       "367"
      ]
     },
     "execution_count": 3,
     "metadata": {},
     "output_type": "execute_result"
    }
   ],
   "source": [
    "df['PlayType'].isna().sum()"
   ]
  },
  {
   "cell_type": "code",
   "execution_count": 4,
   "id": "400d9c90",
   "metadata": {},
   "outputs": [
    {
     "data": {
      "text/html": [
       "<div>\n",
       "<style scoped>\n",
       "    .dataframe tbody tr th:only-of-type {\n",
       "        vertical-align: middle;\n",
       "    }\n",
       "\n",
       "    .dataframe tbody tr th {\n",
       "        vertical-align: top;\n",
       "    }\n",
       "\n",
       "    .dataframe thead th {\n",
       "        text-align: right;\n",
       "    }\n",
       "</style>\n",
       "<table border=\"1\" class=\"dataframe\">\n",
       "  <thead>\n",
       "    <tr style=\"text-align: right;\">\n",
       "      <th></th>\n",
       "      <th>PlayerKey</th>\n",
       "      <th>GameID</th>\n",
       "      <th>PlayKey</th>\n",
       "      <th>RosterPosition</th>\n",
       "      <th>PlayerDay</th>\n",
       "      <th>PlayerGame</th>\n",
       "      <th>StadiumType</th>\n",
       "      <th>FieldType</th>\n",
       "      <th>Temperature</th>\n",
       "      <th>Weather</th>\n",
       "      <th>PlayType</th>\n",
       "      <th>PlayerGamePlay</th>\n",
       "      <th>Position</th>\n",
       "      <th>PositionGroup</th>\n",
       "    </tr>\n",
       "  </thead>\n",
       "  <tbody>\n",
       "    <tr>\n",
       "      <th>0</th>\n",
       "      <td>26624</td>\n",
       "      <td>26624-1</td>\n",
       "      <td>26624-1-1</td>\n",
       "      <td>Quarterback</td>\n",
       "      <td>1</td>\n",
       "      <td>1</td>\n",
       "      <td>Outdoor</td>\n",
       "      <td>Synthetic</td>\n",
       "      <td>63</td>\n",
       "      <td>Clear and warm</td>\n",
       "      <td>Pass</td>\n",
       "      <td>1</td>\n",
       "      <td>QB</td>\n",
       "      <td>QB</td>\n",
       "    </tr>\n",
       "    <tr>\n",
       "      <th>1</th>\n",
       "      <td>26624</td>\n",
       "      <td>26624-1</td>\n",
       "      <td>26624-1-2</td>\n",
       "      <td>Quarterback</td>\n",
       "      <td>1</td>\n",
       "      <td>1</td>\n",
       "      <td>Outdoor</td>\n",
       "      <td>Synthetic</td>\n",
       "      <td>63</td>\n",
       "      <td>Clear and warm</td>\n",
       "      <td>Pass</td>\n",
       "      <td>2</td>\n",
       "      <td>QB</td>\n",
       "      <td>QB</td>\n",
       "    </tr>\n",
       "    <tr>\n",
       "      <th>2</th>\n",
       "      <td>26624</td>\n",
       "      <td>26624-1</td>\n",
       "      <td>26624-1-3</td>\n",
       "      <td>Quarterback</td>\n",
       "      <td>1</td>\n",
       "      <td>1</td>\n",
       "      <td>Outdoor</td>\n",
       "      <td>Synthetic</td>\n",
       "      <td>63</td>\n",
       "      <td>Clear and warm</td>\n",
       "      <td>Rush</td>\n",
       "      <td>3</td>\n",
       "      <td>QB</td>\n",
       "      <td>QB</td>\n",
       "    </tr>\n",
       "    <tr>\n",
       "      <th>3</th>\n",
       "      <td>26624</td>\n",
       "      <td>26624-1</td>\n",
       "      <td>26624-1-4</td>\n",
       "      <td>Quarterback</td>\n",
       "      <td>1</td>\n",
       "      <td>1</td>\n",
       "      <td>Outdoor</td>\n",
       "      <td>Synthetic</td>\n",
       "      <td>63</td>\n",
       "      <td>Clear and warm</td>\n",
       "      <td>Rush</td>\n",
       "      <td>4</td>\n",
       "      <td>QB</td>\n",
       "      <td>QB</td>\n",
       "    </tr>\n",
       "    <tr>\n",
       "      <th>4</th>\n",
       "      <td>26624</td>\n",
       "      <td>26624-1</td>\n",
       "      <td>26624-1-5</td>\n",
       "      <td>Quarterback</td>\n",
       "      <td>1</td>\n",
       "      <td>1</td>\n",
       "      <td>Outdoor</td>\n",
       "      <td>Synthetic</td>\n",
       "      <td>63</td>\n",
       "      <td>Clear and warm</td>\n",
       "      <td>Pass</td>\n",
       "      <td>5</td>\n",
       "      <td>QB</td>\n",
       "      <td>QB</td>\n",
       "    </tr>\n",
       "  </tbody>\n",
       "</table>\n",
       "</div>"
      ],
      "text/plain": [
       "   PlayerKey   GameID    PlayKey RosterPosition  PlayerDay  PlayerGame  \\\n",
       "0      26624  26624-1  26624-1-1    Quarterback          1           1   \n",
       "1      26624  26624-1  26624-1-2    Quarterback          1           1   \n",
       "2      26624  26624-1  26624-1-3    Quarterback          1           1   \n",
       "3      26624  26624-1  26624-1-4    Quarterback          1           1   \n",
       "4      26624  26624-1  26624-1-5    Quarterback          1           1   \n",
       "\n",
       "  StadiumType  FieldType  Temperature         Weather PlayType  \\\n",
       "0     Outdoor  Synthetic           63  Clear and warm     Pass   \n",
       "1     Outdoor  Synthetic           63  Clear and warm     Pass   \n",
       "2     Outdoor  Synthetic           63  Clear and warm     Rush   \n",
       "3     Outdoor  Synthetic           63  Clear and warm     Rush   \n",
       "4     Outdoor  Synthetic           63  Clear and warm     Pass   \n",
       "\n",
       "   PlayerGamePlay Position PositionGroup  \n",
       "0               1       QB            QB  \n",
       "1               2       QB            QB  \n",
       "2               3       QB            QB  \n",
       "3               4       QB            QB  \n",
       "4               5       QB            QB  "
      ]
     },
     "execution_count": 4,
     "metadata": {},
     "output_type": "execute_result"
    }
   ],
   "source": [
    "df.head()"
   ]
  },
  {
   "cell_type": "markdown",
   "id": "87f7eb79",
   "metadata": {},
   "source": [
    "we can fill up the missing values in playtype based on the players position."
   ]
  },
  {
   "cell_type": "code",
   "execution_count": 6,
   "id": "dd4369c5",
   "metadata": {},
   "outputs": [
    {
     "data": {
      "text/plain": [
       "Position  PositionGroup\n",
       "WR        WR               49\n",
       "CB        DB               49\n",
       "G         OL               34\n",
       "OLB       LB               33\n",
       "DT        DL               27\n",
       "T         OL               26\n",
       "RB        RB               21\n",
       "QB        QB               21\n",
       "FS        DB               20\n",
       "C         OL               16\n",
       "DE        DL               16\n",
       "SS        DB               15\n",
       "ILB       LB               13\n",
       "NT        DL                8\n",
       "MLB       LB                8\n",
       "TE        TE                7\n",
       "LB        LB                2\n",
       "DE        LB                2\n",
       "dtype: int64"
      ]
     },
     "execution_count": 6,
     "metadata": {},
     "output_type": "execute_result"
    }
   ],
   "source": [
    "df[['Position','PositionGroup']][df['PlayType'].isna()].value_counts()"
   ]
  },
  {
   "cell_type": "code",
   "execution_count": 30,
   "id": "a6ebed7b",
   "metadata": {},
   "outputs": [
    {
     "name": "stdout",
     "output_type": "stream",
     "text": [
      "('WR', 'WR') Rush\n",
      "('CB', 'DB') Rush\n",
      "('G', 'OL') Pass\n",
      "('OLB', 'LB') Rush\n",
      "('DT', 'DL') Rush\n",
      "('T', 'OL') Rush\n",
      "('RB', 'RB') Rush\n",
      "('QB', 'QB') Rush\n",
      "('FS', 'DB') Rush\n",
      "('C', 'OL') Rush\n",
      "('DE', 'DL') Rush\n",
      "('SS', 'DB') Rush\n",
      "('ILB', 'LB') Rush\n",
      "('NT', 'DL') Rush\n",
      "('MLB', 'LB') Rush\n",
      "('TE', 'TE') Rush\n",
      "('LB', 'LB') Rush\n",
      "('DE', 'LB') Rush\n"
     ]
    }
   ],
   "source": [
    "v = df[['Position','PositionGroup']][df['PlayType'].isna()].value_counts()\n",
    "#print(v)\n",
    "for i,j in v.items():\n",
    "    x = df['PlayType'][df[['RosterPosition','PlayType']][df['Position']==i[0]].value_counts()].max()\n",
    "    print(i,x)"
   ]
  },
  {
   "cell_type": "markdown",
   "id": "8cda293b",
   "metadata": {},
   "source": [
    "Found the playtype of players based on their position.There is a high chance of injury during players passing or rush\n",
    "towards the ball."
   ]
  },
  {
   "cell_type": "code",
   "execution_count": 31,
   "id": "fdb51f4e",
   "metadata": {},
   "outputs": [
    {
     "name": "stdout",
     "output_type": "stream",
     "text": [
      "[16896, 84023, 92123, 108684, 108741, 108760, 108946, 109179, 164389, 164405, 174244, 174278, 176669, 176843, 177035, 187467, 187568, 187583, 187645, 187649, 187776, 187964, 200974, 201723, 201726, 201843, 201906, 201946, 202153, 213844, 214271, 214279, 263509, 263674]\n",
      "34\n"
     ]
    }
   ],
   "source": [
    "c = df['PlayType'][(df['Position']=='G')&(df['PositionGroup']=='OL')].isna()\n",
    "ls = []\n",
    "for k,v in c.items():\n",
    "    if v== True:\n",
    "        ls.append(k)\n",
    "print(ls)\n",
    "print(len(ls))"
   ]
  },
  {
   "cell_type": "markdown",
   "id": "9974de5e",
   "metadata": {},
   "source": [
    "Filling the playtype value of pass during position as G & position group as OL"
   ]
  },
  {
   "cell_type": "code",
   "execution_count": 34,
   "id": "b5d66ec2",
   "metadata": {},
   "outputs": [],
   "source": [
    "#df['PlayType'].isna().sum()\n",
    "for i in ls:\n",
    "    df['PlayType'] = df['PlayType'].fillna({i:'Pass'})"
   ]
  },
  {
   "cell_type": "code",
   "execution_count": 35,
   "id": "ae4dc5db",
   "metadata": {},
   "outputs": [],
   "source": [
    "df['PlayType'] = df['PlayType'].fillna('Rush')"
   ]
  },
  {
   "cell_type": "markdown",
   "id": "ca0cae37",
   "metadata": {},
   "source": [
    "Filled the playtype value of rush for other missing values in it."
   ]
  },
  {
   "cell_type": "code",
   "execution_count": 4,
   "id": "f81db099",
   "metadata": {},
   "outputs": [],
   "source": [
    "df1 = pd.read_csv(\"D:/NFL/InjuryRecord.csv\")"
   ]
  },
  {
   "cell_type": "code",
   "execution_count": 6,
   "id": "839633c6",
   "metadata": {},
   "outputs": [
    {
     "data": {
      "text/plain": [
       "0       1\n",
       "1       2\n",
       "2       3\n",
       "3       4\n",
       "4       5\n",
       "       ..\n",
       "273    29\n",
       "274    30\n",
       "275    31\n",
       "276    32\n",
       "277    33\n",
       "Name: PlayerGamePlay, Length: 278, dtype: int64"
      ]
     },
     "execution_count": 6,
     "metadata": {},
     "output_type": "execute_result"
    }
   ],
   "source": [
    "df = df.merge(right=df1,on='PlayerKey',how='inner')\n",
    "df['PlayerGamePlay'][df['PlayerKey']==31070]"
   ]
  },
  {
   "cell_type": "markdown",
   "id": "2bc26147",
   "metadata": {},
   "source": [
    "Merging the injury data based on playerkey."
   ]
  },
  {
   "cell_type": "code",
   "execution_count": 13,
   "id": "8d412e14",
   "metadata": {},
   "outputs": [],
   "source": [
    "df = df.drop('PlayKey_y',axis=1)"
   ]
  },
  {
   "cell_type": "markdown",
   "id": "f3c92ad9",
   "metadata": {},
   "source": [
    "dropping the playkey_y column from injury dataset.since we already have playkey column in our current file."
   ]
  },
  {
   "cell_type": "code",
   "execution_count": 14,
   "id": "eb01f794",
   "metadata": {},
   "outputs": [
    {
     "data": {
      "text/plain": [
       "Index(['PlayerKey', 'GameID_x', 'PlayKey_x', 'RosterPosition', 'PlayerDay',\n",
       "       'PlayerGame', 'StadiumType', 'FieldType', 'Temperature', 'Weather',\n",
       "       'PlayType', 'PlayerGamePlay', 'Position', 'PositionGroup', 'GameID_y',\n",
       "       'BodyPart', 'Surface', 'DM_M1', 'DM_M7', 'DM_M28', 'DM_M42'],\n",
       "      dtype='object')"
      ]
     },
     "execution_count": 14,
     "metadata": {},
     "output_type": "execute_result"
    }
   ],
   "source": [
    "df.columns"
   ]
  },
  {
   "cell_type": "markdown",
   "id": "4181e6e7",
   "metadata": {},
   "source": [
    "data_corr = df.corr()\n",
    "data_corr.style.background_gradient(cmap='summer')"
   ]
  },
  {
   "cell_type": "code",
   "execution_count": 16,
   "id": "7e949305",
   "metadata": {},
   "outputs": [
    {
     "data": {
      "text/plain": [
       "PlayerDay     0.850028\n",
       "PlayerGame    0.850028\n",
       "dtype: float64"
      ]
     },
     "execution_count": 16,
     "metadata": {},
     "output_type": "execute_result"
    }
   ],
   "source": [
    "dd = df.corr()\n",
    "dd = dd[dd<1].max()\n",
    "dd[dd == dd.max()]"
   ]
  },
  {
   "cell_type": "code",
   "execution_count": 17,
   "id": "0989f1d1",
   "metadata": {},
   "outputs": [
    {
     "data": {
      "text/plain": [
       "PlayerKey   -0.207334\n",
       "DM_M28      -0.207334\n",
       "dtype: float64"
      ]
     },
     "execution_count": 17,
     "metadata": {},
     "output_type": "execute_result"
    }
   ],
   "source": [
    "cc = df.corr()\n",
    "cc = cc[cc<0].min()\n",
    "cc[cc==cc.min()]"
   ]
  },
  {
   "cell_type": "code",
   "execution_count": 18,
   "id": "3e4fd19e",
   "metadata": {},
   "outputs": [
    {
     "data": {
      "text/plain": [
       "Index(['PlayerKey', 'GameID_x', 'PlayKey_x', 'RosterPosition', 'PlayerDay',\n",
       "       'PlayerGame', 'StadiumType', 'FieldType', 'Temperature', 'Weather',\n",
       "       'PlayType', 'PlayerGamePlay', 'Position', 'PositionGroup', 'GameID_y',\n",
       "       'BodyPart', 'Surface', 'DM_M1', 'DM_M7', 'DM_M28', 'DM_M42'],\n",
       "      dtype='object')"
      ]
     },
     "execution_count": 18,
     "metadata": {},
     "output_type": "execute_result"
    }
   ],
   "source": [
    "df.columns"
   ]
  },
  {
   "cell_type": "code",
   "execution_count": null,
   "id": "9b0537d0",
   "metadata": {},
   "outputs": [],
   "source": [
    "df = df.drop('PlayKey_y',axis=1)"
   ]
  },
  {
   "cell_type": "code",
   "execution_count": 78,
   "id": "75e459f3",
   "metadata": {},
   "outputs": [],
   "source": [
    "a = df['GameID_x'].unique()\n",
    "ls = []\n",
    "for i in a:\n",
    "    i = i[6:]\n",
    "    ls.append(i)\n",
    "    x = set(ls)\n",
    "x=list(x)\n",
    "dd = pd.Series(data=x,name='GameID')"
   ]
  },
  {
   "cell_type": "code",
   "execution_count": 83,
   "id": "84eabd93",
   "metadata": {},
   "outputs": [
    {
     "data": {
      "text/plain": [
       "<AxesSubplot:xlabel='count', ylabel='RosterPosition'>"
      ]
     },
     "execution_count": 83,
     "metadata": {},
     "output_type": "execute_result"
    },
    {
     "data": {
      "image/png": "[encoded data removed]",
      "text/plain": [
       "<Figure size 432x288 with 1 Axes>"
      ]
     },
     "metadata": {
      "needs_background": "light"
     },
     "output_type": "display_data"
    }
   ],
   "source": [
    "import seaborn as sns\n",
    "import matplotlib.pyplot as plt\n",
    "sns.countplot(y=df['RosterPosition'],hue=df['BodyPart'])"
   ]
  },
  {
   "cell_type": "markdown",
   "id": "636f7677",
   "metadata": {},
   "source": [
    "Players injuries on specific body parts based on their position of running."
   ]
  },
  {
   "cell_type": "code",
   "execution_count": 81,
   "id": "c1225e02",
   "metadata": {},
   "outputs": [
    {
     "data": {
      "text/plain": [
       "<AxesSubplot:xlabel='count', ylabel='Position'>"
      ]
     },
     "execution_count": 81,
     "metadata": {},
     "output_type": "execute_result"
    },
    {
     "data": {
      "image/png": "[encoded data removed]",
      "text/plain": [
       "<Figure size 432x288 with 1 Axes>"
      ]
     },
     "metadata": {
      "needs_background": "light"
     },
     "output_type": "display_data"
    }
   ],
   "source": [
    "sns.countplot(y=df['Position'],hue=df['BodyPart'])"
   ]
  },
  {
   "cell_type": "code",
   "execution_count": 22,
   "id": "61cca9c1",
   "metadata": {},
   "outputs": [
    {
     "data": {
      "image/png": "[encoded data removed]",
      "text/plain": [
       "<Figure size 720x1440 with 4 Axes>"
      ]
     },
     "metadata": {
      "needs_background": "light"
     },
     "output_type": "display_data"
    }
   ],
   "source": [
    "import seaborn as sns\n",
    "import matplotlib.pyplot as plt\n",
    "cc = df[['DM_M1','DM_M7','DM_M28','DM_M42']]\n",
    "fig,axs = plt.subplots(ncols=1,nrows=4,figsize=(10,20))\n",
    "axs = axs.flatten()\n",
    "index = 0\n",
    "for k,v in cc.items():\n",
    "    sns.countplot(y=df['PlayType'],hue=v,ax=axs[index])\n",
    "    index += 1"
   ]
  },
  {
   "cell_type": "markdown",
   "id": "e31b51db",
   "metadata": {},
   "source": [
    "# PlayType 0 representing player as a substituted one.....?????? cross check with playerday or possibility of missing the game due to injury."
   ]
  },
  {
   "cell_type": "code",
   "execution_count": 23,
   "id": "360f98e4",
   "metadata": {},
   "outputs": [
    {
     "data": {
      "text/plain": [
       "<AxesSubplot:xlabel='count', ylabel='RosterPosition'>"
      ]
     },
     "execution_count": 23,
     "metadata": {},
     "output_type": "execute_result"
    },
    {
     "data": {
      "image/png": "[encoded data removed]",
      "text/plain": [
       "<Figure size 432x288 with 1 Axes>"
      ]
     },
     "metadata": {
      "needs_background": "light"
     },
     "output_type": "display_data"
    }
   ],
   "source": [
    "sns.countplot(y=df['RosterPosition'],hue=df['FieldType'])"
   ]
  },
  {
   "cell_type": "markdown",
   "id": "662bcdeb",
   "metadata": {},
   "source": [
    "df[['RosterPosition','FieldType','PlayType','Position','PositionGroup','BodyPart',\n",
    "    'Surface','DM_M1', 'DM_M7', 'DM_M28', 'DM_M42']"
   ]
  },
  {
   "cell_type": "code",
   "execution_count": null,
   "id": "413698d6",
   "metadata": {},
   "outputs": [],
   "source": [
    "df[['PlayerGamePlay','RosterPosition','PlayType','PositionGroup']][df['Position']=='G'].value_counts()\n",
    "df['RosterPosition'][(df['PlayType']=='Rush')&(df['Position']=='G')].value_counts()\n",
    "df['RosterPosition'][(df['PlayType']=='Punt Not Returned')&(df['Position']=='G')].value_counts()"
   ]
  },
  {
   "cell_type": "code",
   "execution_count": 33,
   "id": "a98f3583",
   "metadata": {},
   "outputs": [
    {
     "data": {
      "text/html": [
       "<div>\n",
       "<style scoped>\n",
       "    .dataframe tbody tr th:only-of-type {\n",
       "        vertical-align: middle;\n",
       "    }\n",
       "\n",
       "    .dataframe tbody tr th {\n",
       "        vertical-align: top;\n",
       "    }\n",
       "\n",
       "    .dataframe thead th {\n",
       "        text-align: right;\n",
       "    }\n",
       "</style>\n",
       "<table border=\"1\" class=\"dataframe\">\n",
       "  <thead>\n",
       "    <tr style=\"text-align: right;\">\n",
       "      <th></th>\n",
       "      <th>id</th>\n",
       "      <th>NAME</th>\n",
       "      <th>host id</th>\n",
       "      <th>host_identity_verified</th>\n",
       "      <th>host name</th>\n",
       "      <th>neighbourhood group</th>\n",
       "      <th>neighbourhood</th>\n",
       "      <th>lat</th>\n",
       "      <th>long</th>\n",
       "      <th>country</th>\n",
       "      <th>country code</th>\n",
       "      <th>instant_bookable</th>\n",
       "      <th>cancellation_policy</th>\n",
       "      <th>room type</th>\n",
       "      <th>Construction year</th>\n",
       "      <th>price</th>\n",
       "      <th>service fee</th>\n",
       "      <th>minimum nights</th>\n",
       "      <th>number of reviews</th>\n",
       "      <th>last review</th>\n",
       "      <th>reviews per month</th>\n",
       "      <th>review rate number</th>\n",
       "      <th>calculated host listings count</th>\n",
       "      <th>availability 365</th>\n",
       "      <th>house_rules</th>\n",
       "      <th>license</th>\n",
       "    </tr>\n",
       "  </thead>\n",
       "  <tbody>\n",
       "    <tr>\n",
       "      <th>0</th>\n",
       "      <td>1001254</td>\n",
       "      <td>Clean &amp; quiet apt home by the park</td>\n",
       "      <td>80014485718</td>\n",
       "      <td>unconfirmed</td>\n",
       "      <td>Madaline</td>\n",
       "      <td>Brooklyn</td>\n",
       "      <td>Kensington</td>\n",
       "      <td>40.64749</td>\n",
       "      <td>-73.97237</td>\n",
       "      <td>United States</td>\n",
       "      <td>US</td>\n",
       "      <td>False</td>\n",
       "      <td>strict</td>\n",
       "      <td>Private room</td>\n",
       "      <td>2020.0</td>\n",
       "      <td>$966</td>\n",
       "      <td>$193</td>\n",
       "      <td>10.0</td>\n",
       "      <td>9.0</td>\n",
       "      <td>10/19/2021</td>\n",
       "      <td>0.21</td>\n",
       "      <td>4.0</td>\n",
       "      <td>6.0</td>\n",
       "      <td>286.0</td>\n",
       "      <td>Clean up and treat the home the way you'd like...</td>\n",
       "      <td>NaN</td>\n",
       "    </tr>\n",
       "    <tr>\n",
       "      <th>1</th>\n",
       "      <td>1002102</td>\n",
       "      <td>Skylit Midtown Castle</td>\n",
       "      <td>52335172823</td>\n",
       "      <td>verified</td>\n",
       "      <td>Jenna</td>\n",
       "      <td>Manhattan</td>\n",
       "      <td>Midtown</td>\n",
       "      <td>40.75362</td>\n",
       "      <td>-73.98377</td>\n",
       "      <td>United States</td>\n",
       "      <td>US</td>\n",
       "      <td>False</td>\n",
       "      <td>moderate</td>\n",
       "      <td>Entire home/apt</td>\n",
       "      <td>2007.0</td>\n",
       "      <td>$142</td>\n",
       "      <td>$28</td>\n",
       "      <td>30.0</td>\n",
       "      <td>45.0</td>\n",
       "      <td>5/21/2022</td>\n",
       "      <td>0.38</td>\n",
       "      <td>4.0</td>\n",
       "      <td>2.0</td>\n",
       "      <td>228.0</td>\n",
       "      <td>Pet friendly but please confirm with me if the...</td>\n",
       "      <td>NaN</td>\n",
       "    </tr>\n",
       "  </tbody>\n",
       "</table>\n",
       "</div>"
      ],
      "text/plain": [
       "        id                                NAME      host id  \\\n",
       "0  1001254  Clean & quiet apt home by the park  80014485718   \n",
       "1  1002102               Skylit Midtown Castle  52335172823   \n",
       "\n",
       "  host_identity_verified host name neighbourhood group neighbourhood  \\\n",
       "0            unconfirmed  Madaline            Brooklyn    Kensington   \n",
       "1               verified     Jenna           Manhattan       Midtown   \n",
       "\n",
       "        lat      long        country country code instant_bookable  \\\n",
       "0  40.64749 -73.97237  United States           US            False   \n",
       "1  40.75362 -73.98377  United States           US            False   \n",
       "\n",
       "  cancellation_policy        room type  Construction year  price service fee  \\\n",
       "0              strict     Private room             2020.0  $966        $193    \n",
       "1            moderate  Entire home/apt             2007.0  $142         $28    \n",
       "\n",
       "   minimum nights  number of reviews last review  reviews per month  \\\n",
       "0            10.0                9.0  10/19/2021               0.21   \n",
       "1            30.0               45.0   5/21/2022               0.38   \n",
       "\n",
       "   review rate number  calculated host listings count  availability 365  \\\n",
       "0                 4.0                             6.0             286.0   \n",
       "1                 4.0                             2.0             228.0   \n",
       "\n",
       "                                         house_rules license  \n",
       "0  Clean up and treat the home the way you'd like...     NaN  \n",
       "1  Pet friendly but please confirm with me if the...     NaN  "
      ]
     },
     "execution_count": 33,
     "metadata": {},
     "output_type": "execute_result"
    }
   ],
   "source": [
    "import pandas as pd\n",
    "import matplotlib.pyplot as plt\n",
    "import seaborn as sns\n",
    "import warnings\n",
    "warnings.filterwarnings('ignore')\n",
    "pd.options.display.max_columns = None\n",
    "df = pd.read_csv(\"D:\\Analytics Project\\Airbnb\\Airbnb_Open_Data.csv\")\n",
    "df.head(2)"
   ]
  }
 ],
 "metadata": {
  "kernelspec": {
   "display_name": "Python 3 (ipykernel)",
   "language": "python",
   "name": "python3"
  },
  "language_info": {
   "codemirror_mode": {
    "name": "ipython",
    "version": 3
   },
   "file_extension": ".py",
   "mimetype": "text/x-python",
   "name": "python",
   "nbconvert_exporter": "python",
   "pygments_lexer": "ipython3",
   "version": "3.9.12"
  }
 },
 "nbformat": 4,
 "nbformat_minor": 5
}
